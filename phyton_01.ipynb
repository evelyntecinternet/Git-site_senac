{
  "nbformat": 4,
  "nbformat_minor": 0,
  "metadata": {
    "colab": {
      "provenance": [],
      "authorship_tag": "ABX9TyMswR2pA+yFUdfBGU82z1M0",
      "include_colab_link": true
    },
    "kernelspec": {
      "name": "python3",
      "display_name": "Python 3"
    },
    "language_info": {
      "name": "python"
    }
  },
  "cells": [
    {
      "cell_type": "markdown",
      "metadata": {
        "id": "view-in-github",
        "colab_type": "text"
      },
      "source": [
        "<a href=\"https://colab.research.google.com/github/evelyntecinternet/Git-site_senac/blob/master/phyton_01.ipynb\" target=\"_parent\"><img src=\"https://colab.research.google.com/assets/colab-badge.svg\" alt=\"Open In Colab\"/></a>"
      ]
    },
    {
      "cell_type": "code",
      "execution_count": null,
      "metadata": {
        "id": "chtdvJsFOlO4"
      },
      "outputs": [],
      "source": [
        "print(\"Hello Word!\")"
      ]
    },
    {
      "cell_type": "code",
      "source": [
        "saudacao = \"Hello Word!\"\n",
        "print (\"saudacao\")\n",
        "print(saudacao)\n",
        "                              #consigo manusear cada caractere da minha string\n",
        "print(saudacao[0])\n",
        "print(saudacao[6])\n",
        "print(saudacao[0:5])\n",
        "print(saudacao[6::])\n",
        "print(saudacao[0], saudacao[1])#imprimir com espaço\n",
        "print(saudacao[0] + saudacao[1]) #contatenou = Juntou\n",
        "print(saudacao[0], \" -\",saudacao[1], \"_\",saudacao[2])\n",
        "print(\"Inicio do for\")\n",
        "for x in saudacao:\n",
        "  print(x)\n",
        "\n",
        "print(\"End!!\")"
      ],
      "metadata": {
        "id": "cS-HpP7_SNvF"
      },
      "execution_count": null,
      "outputs": []
    },
    {
      "cell_type": "code",
      "source": [
        "print(\"A soma é:\", 5+3)\n",
        "print(\"A divisão é:\",5/3)\n",
        "print(\"A multiplicação é:\",5*3)\n",
        "print(\"A subtração é:\",5-3)"
      ],
      "metadata": {
        "id": "OkIufnr7b463"
      },
      "execution_count": null,
      "outputs": []
    },
    {
      "cell_type": "code",
      "source": [
        "n1 = 5\n",
        "n2 = 3\n",
        "print(\"A soma é:\", n1+n2)\n",
        "print(\"A divisão é:\",n1/n2)\n",
        "print(\"A multiplicação é:\",n1*n2)\n",
        "print(\"A subtração é:\",n1-n2)"
      ],
      "metadata": {
        "id": "JLr52rUKd8K_"
      },
      "execution_count": null,
      "outputs": []
    },
    {
      "cell_type": "code",
      "source": [
        "soma = 5+3\n",
        "subtracao = 5-3\n",
        "multiplicacao = 5*3\n",
        "divisao = 5/3\n",
        "print(\"A soma é:\", soma)\n",
        "print(\"O tipo de dado da soma é:\",type(soma))\n",
        "print(\"A divisão é:\",divisao)\n",
        "print(\"O tipo de dado da divisao é:\",type(divisao))\n",
        "print(\"A multiplicação é:\",multiplicacao)\n",
        "print(\"O tipo de dado da multiplicação é:\",type(multiplicacao))\n",
        "print(\"A subtração é:\",subtracao)\n",
        "print(\"O tipo de dado da subtração é:\",type(subtracao))"
      ],
      "metadata": {
        "id": "2vJa9VTBeAXu"
      },
      "execution_count": null,
      "outputs": []
    },
    {
      "cell_type": "code",
      "source": [
        "nome = \"evelyn oliveira\"\n",
        "print(nome)\n",
        "print(nome.capitalize()) #primeira letra maiscula\n",
        "print(nome.upper())#tudo maisculo\n",
        "print(nome.casefold()) #tudo minusculo\n",
        "print(nome.find(\"o\"))#posição da letra\n",
        "print(nome.replace(\"e\",\"&\"))#troca a letra correspondente pela do lado\n",
        "print(nome.count(\"i\"))#contar a quantidade de mesma letra"
      ],
      "metadata": {
        "id": "uPHfJVIJwEP7"
      },
      "execution_count": null,
      "outputs": []
    },
    {
      "cell_type": "code",
      "source": [
        "nome_completo = \"Evelyn Alves Da Cruz Oliveira\" # @param {type:\"string\"}\n",
        "data_nascimento = \"2006-08-23\" # @param {type:\"date\"}\n",
        "print(nome_completo)\n",
        "nome = input(\"Digite o seu nome : \")\n",
        "print(nome)\n",
        "print(data_nascimento)"
      ],
      "metadata": {
        "id": "f7Y3hrH20ZE5"
      },
      "execution_count": null,
      "outputs": []
    },
    {
      "cell_type": "code",
      "source": [
        "nome = input(\"Digite o seu nome : \")\n",
        "print(\"o nome é: \",nome)\n",
        "\n",
        "idade = input(\"Digite a sua idade : \")\n",
        "print(\"A idade é: \",idade)"
      ],
      "metadata": {
        "id": "rgwwcUcH1XT4"
      },
      "execution_count": null,
      "outputs": []
    },
    {
      "cell_type": "code",
      "source": [
        "nome = \"Ana\" # @param {type:\"string\"}\n",
        "idade = 10 # @param {type:\"integer\"}\n",
        "\n",
        "if idade >= 18 :\n",
        "  print(\"MAIOR\")\n",
        "else:\n",
        "  print(\"menor\")"
      ],
      "metadata": {
        "id": "9qMSropq2qfA"
      },
      "execution_count": null,
      "outputs": []
    },
    {
      "cell_type": "code",
      "source": [
        "#for\n",
        "\n",
        "for x in range(15,25):\n",
        "  print(x)"
      ],
      "metadata": {
        "id": "tpe9ySw04fKY"
      },
      "execution_count": null,
      "outputs": []
    }
  ]
}